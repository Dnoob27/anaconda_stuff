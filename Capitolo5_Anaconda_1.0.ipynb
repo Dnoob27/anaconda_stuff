{
 "cells": [
  {
   "cell_type": "markdown",
   "metadata": {},
   "source": [
    "# capitolo 5 - Anaconda\n",
    "## L’ambiente di sviluppo per il data science"
   ]
  },
  {
   "cell_type": "markdown",
   "metadata": {},
   "source": [
    "## 3 Impariamo a usare Jupyter Notebook"
   ]
  },
  {
   "cell_type": "code",
   "execution_count": 1,
   "metadata": {},
   "outputs": [
    {
     "name": "stdout",
     "output_type": "stream",
     "text": [
      "Hello world!\n"
     ]
    }
   ],
   "source": [
    "print (\"Hello world!\")"
   ]
  },
  {
   "cell_type": "markdown",
   "metadata": {},
   "source": [
    "## 5 Documentiamo un notebook con Markdown"
   ]
  },
  {
   "cell_type": "markdown",
   "metadata": {},
   "source": [
    "# Formattazione del testo con Markdown\n",
    "L’effetto dei comandi di formattazione si applica a tutta la riga o\n",
    "al testo compreso tra i marcatori.\n",
    "## Titoli\n",
    "Per i titoli mettere # header1 ## header2 ### header3 così fino a\n",
    "6.\n",
    "\n",
    "Doppio invio per separare i paragrafi. Digitare 2 spazi alla fine\n",
    "della riga (metterli qui e andare a capo)\n",
    "per fare andare a capo senza riga vuota.\n",
    "\n",
    "Usare \\* o \\_ per il *corsivo*, \\*\\* o \\_\\_ per il __grassetto__,\n",
    "\\*\\*\\* o \\_\\_\\_ per il ***grassetto corsivo***, doppia tilde per il\n",
    "~~barrato~~.\n",
    "\n",
    "Il sottolineato non si può fare."
   ]
  },
  {
   "cell_type": "markdown",
   "metadata": {},
   "source": [
    "**Ricordarsi di separare le varie parti con una riga vuota altrimenti potrebbero non formattarsi correttamente**\n",
    "## Le liste\n",
    "### Numerate\n",
    "Cominciare ogni riga con un numero (normalmente 1). Cambierà il colore e inizierà a numerare le righe\n",
    "\n",
    "2. primo\n",
    "2. secondo\n",
    "\n",
    "### Non numerate\n",
    "Iniziare ogni riga con - o *\n",
    "\n",
    "* uno\n",
    "- due\n",
    "\n",
    "### Strutture\n",
    "- uno\n",
    " - spazio e poi -\n",
    "1. primo\n",
    " * spazio e poi *\n",
    "1. secondo\n",
    "\n",
    "## Le citazioni\n",
    "Iniziare con >\n",
    "> citazione\n",
    ">> doppio >> per una sottocitazione indentata"
   ]
  },
  {
   "cell_type": "markdown",
   "metadata": {},
   "source": [
    "## Il codice\n",
    "Il testo tra backtick è formattato come `codice`.\n",
    "\n",
    "``Tutto questo è `codice`.``\n",
    "```\n",
    "Questo\n",
    "    è tutto testo \n",
    " preformattato, ovvero mantiene gli spazi utilizzati e \n",
    "    viene usato un carattere monospace\n",
    "```\n",
    "    Anche il testo scritto dopo un TAB\n",
    "        o 4 spazi \n",
    "    è un testo preformattato\n",
    "\n"
   ]
  },
  {
   "cell_type": "markdown",
   "metadata": {},
   "source": [
    "## I link\n",
    "Qualunque URL viene automaticamente formattato come link https://esempio.it/\n",
    "\n",
    "Questo è un esempio di link [Hotkey](http://www.esempio.it/ \"Titolo\") ottenuto scrivendo \n",
    "\n",
    "`[Hotkey](http://www.esempio.it/ \"Titolo\")` che corrisponde al codice HTML\n",
    "\n",
    "`<a href=\"http://www.esempio.it/\" title=\"Titolo\">Hotkey</a>`\n",
    "\n",
    "## Le immagini\n",
    "I file immagine possono avere estensione jpg, png, bmp, svg.\n",
    "\n",
    "`![Immagine](immagine.png \"Titolo\")` corrisponde al codice HTML\n",
    "\n",
    "`<img src=\"immagine.png\" alt=\"Immagine\" title=\"Titolo\" />` non funziona perché non c'è un file nella cartella del Notebook con quel nome\n",
    "\n",
    "Questa immagine è anche un link\n",
    "[![Immagine nel web](https://www.python.org/static/img/python-logo@2x.png \"Logo Python\")](https://www.python.org) "
   ]
  },
  {
   "cell_type": "markdown",
   "metadata": {},
   "source": [
    "## Le tabelle\n",
    "* Usare la | per individuare le celle, `:-`   `:-:` `-:` per definire gli allineamenti (attenzione agli spazi prima e dopo). \n",
    "* &Egrave; il testo che determina la larghezza delle colonne\n",
    "* La prima riga è l'intestazione\n",
    "\n",
    "|sinistra|centro|destra|\n",
    "|:-|:-:|-:|\n",
    "|1|2|3  |\n",
    "|a      |b |c|"
   ]
  },
  {
   "cell_type": "markdown",
   "metadata": {},
   "source": [
    "Per esempio \\*questi sono visualizzati come asterischi\\*"
   ]
  },
  {
   "cell_type": "markdown",
   "metadata": {},
   "source": [
    "## Le formule matematiche con LaTeX\n",
    "Le formule matematiche possono essere scritte utilizzando i comandi LaTex inseriti tra i segni di dollaro `$`. Per esempio `$\\sigma$` verrà visualizzato così:  $\\sigma$. Ecco altri esempi\n",
    "\n",
    "`$I_G(X)=1-\\sum_{i=1}^m{p^2_i}$`\n",
    "$I_G(X)=1-\\sum_{i=1}^m{p^2_i}$ \n",
    "\n",
    "`$\\lim_{n\\to\\infty}\\sum_{k=1}^n\\frac{1}{k^2}=\\frac{\\pi^2}{6}\\$`\n",
    "$\\lim_{n\\to\\infty}\\sum_{k=1}^n\\frac{1}{k^2}=\\frac{\\pi^2}{6}\\$\n",
    "\n",
    "`$\\sqrt{x} \\quad \\sqrt[3]{2}$`\n",
    "$\\sqrt{x} \\quad \\sqrt[3]{2}$\n",
    "\n",
    "`$f(x_1,\\dots,x_n)=\\prod_{k=1}^n x_k$` \n",
    "$f(x_1,\\dots,x_n)=\\prod_{k=1}^n x_k$\n",
    "\n",
    "`$c_{ij}  = \\sum_{k=1}^m{a_{ik} \\times b_{kj}}$` \n",
    "$c_{ij}  = \\sum_{k=1}^m{a_{ik} \\times b_{kj}}$"
   ]
  }
 ],
 "metadata": {
  "kernelspec": {
   "display_name": "Python 3",
   "language": "python",
   "name": "python3"
  },
  "language_info": {
   "codemirror_mode": {
    "name": "ipython",
    "version": 3
   },
   "file_extension": ".py",
   "mimetype": "text/x-python",
   "name": "python",
   "nbconvert_exporter": "python",
   "pygments_lexer": "ipython3",
   "version": "3.8.8"
  }
 },
 "nbformat": 4,
 "nbformat_minor": 4
}
