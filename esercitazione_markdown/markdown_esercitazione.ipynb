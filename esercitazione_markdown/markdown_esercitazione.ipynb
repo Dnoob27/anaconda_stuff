{
 "cells": [
  {
   "cell_type": "markdown",
   "id": "b1670091-c0e6-4919-9511-f71c96d94bf3",
   "metadata": {},
   "source": [
    "# Verifica di Battistini Davide"
   ]
  },
  {
   "cell_type": "markdown",
   "id": "53da8324-d88b-4cda-b1c0-d8e3cd3cb4c3",
   "metadata": {},
   "source": [
    "## Il riso"
   ]
  },
  {
   "cell_type": "markdown",
   "id": "68fb3c22-2700-4eb1-a242-c64b9d47e3e2",
   "metadata": {},
   "source": [
    "> ``Se vedi un uomo affamato non dargli del riso: insegnagli a coltivarlo.``"
   ]
  },
  {
   "cell_type": "markdown",
   "id": "35d32599-0a46-44d0-b5be-df012193fd1b",
   "metadata": {},
   "source": [
    "<i> Confucio </i> fiosofo cinese (551- 479 a.C)"
   ]
  },
  {
   "cell_type": "markdown",
   "id": "35603063-5a98-460e-a6b6-cccf71bdbe2d",
   "metadata": {},
   "source": [
    "### Tipi di riso ###"
   ]
  },
  {
   "cell_type": "markdown",
   "id": "91df5e2f-b95b-4e60-aa57-08ed4d7ad2b9",
   "metadata": {},
   "source": [
    "|Tipo di riso|Chicchi|Descrizione|Tempo di cottura|\n",
    "|:-|:-:|:-:|-:|\n",
    "|![Riso comune](esercitazione_markdown/riso1.jpg)|2|3|4|\n",
    "|a |b |c|d|"
   ]
  },
  {
   "cell_type": "code",
   "execution_count": null,
   "id": "45eb7b8f-a6c2-48b9-9d57-08071c0f8e9c",
   "metadata": {},
   "outputs": [],
   "source": []
  }
 ],
 "metadata": {
  "kernelspec": {
   "display_name": "anaconda-ai-2024.04-py310",
   "language": "python",
   "name": "conda-env-anaconda-ai-2024.04-py310-py"
  },
  "language_info": {
   "codemirror_mode": {
    "name": "ipython",
    "version": 3
   },
   "file_extension": ".py",
   "mimetype": "text/x-python",
   "name": "python",
   "nbconvert_exporter": "python",
   "pygments_lexer": "ipython3",
   "version": "3.10.13"
  }
 },
 "nbformat": 4,
 "nbformat_minor": 5
}
