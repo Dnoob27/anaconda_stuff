{
 "cells": [
  {
   "cell_type": "markdown",
   "id": "b1670091-c0e6-4919-9511-f71c96d94bf3",
   "metadata": {},
   "source": [
    "# Verifica di Battistini Davide"
   ]
  },
  {
   "cell_type": "markdown",
   "id": "53da8324-d88b-4cda-b1c0-d8e3cd3cb4c3",
   "metadata": {},
   "source": [
    "## Il riso"
   ]
  },
  {
   "cell_type": "markdown",
   "id": "68fb3c22-2700-4eb1-a242-c64b9d47e3e2",
   "metadata": {},
   "source": [
    "> ``Se vedi un uomo affamato non dargli del riso: insegnagli a coltivarlo.``"
   ]
  },
  {
   "cell_type": "markdown",
   "id": "35d32599-0a46-44d0-b5be-df012193fd1b",
   "metadata": {},
   "source": [
    "<i> Confucio </i> fiosofo cinese (551- 479 a.C)"
   ]
  },
  {
   "cell_type": "markdown",
   "id": "35603063-5a98-460e-a6b6-cccf71bdbe2d",
   "metadata": {},
   "source": [
    "### Tipi di riso ###"
   ]
  },
  {
   "cell_type": "markdown",
   "id": "91df5e2f-b95b-4e60-aa57-08ed4d7ad2b9",
   "metadata": {},
   "source": [
    "|Tipo di riso|Chicchi|Descrizione|Tempo di cottura|\n",
    "|:-|:-:|:-:|-:|\n",
    "|![Riso comune](riso1.jpg "riso1")<br><i>Riso comune</i></br>| chicchi tondi | lunghezza inferiore a 5,4 mm | adatti per minestre, minestroni e dolci (cuociono in 12-13 minuti)|\n",
    "|![Riso semifino](riso2.jpg \"riso2\")<br><i>Riso semifino</i></br>| chicchi tondeggianti | lunghezza fra 5,4 mm e 6,4 mm | adatti per antipasti, risi in bianco, timballi (cuociono in 13-15 minuti)|\n",
    "|![Riso fino](riso3.jpg \"riso3\")<br><i>Riso fino</i></br>| chicchi affusolati | lunghezza superiore a 6,4 mm | adatti per risotti e contorni (cuociono in 14-16 minuti)|\n",
    "|![Riso superfino](riso4.jpg \"riso4\")<br><i>Riso superfino</i></br>| chicchi grossi e molto lunghi | lunghezza superiore a 6,4 mm | adatti alla preparazione di risotti e contorni (cuociono in 16-18 minuti)|"
   ]
  },
  {
   "cell_type": "markdown",
   "id": "9c42a777-ffb2-44ef-b8a5-5447f8213cc7",
   "metadata": {},
   "source": [
    "Il riso costituisce il seme della <b><i>Oryza sativa</i></b>, pianta erbacea annua della famiglia delle Graminacee. Il riso è una delle cinque specie alimentari fondamentali per il genere umano ed è la principale pianta coltivata sulla terra."
   ]
  },
  {
   "cell_type": "markdown",
   "id": "f5d351a8-293f-4654-84a2-5ef7ad0a088f",
   "metadata": {},
   "source": [
    "Il chicco di riso appena raccolto è rivestito da un involucro a più strati, tendente al colore marrone o giallo e contenente molte sostanze. Sotto i diversi strati protettivi, o <i>tegumenti</i>, che si assottigliano dall'esterno all'interno, si trova la <i>cariosside</i>. Il granello è costituito di proteine e, nella zona più interna, di granuli di amido (la cui formula chimica è ($\\ce{C6H10O5})n$), di piccole dimensioni e spigolosi, compatti e riuniti a grappolo."
   ]
  },
  {
   "cell_type": "markdown",
   "id": "ea0067b7-e3f2-432a-be59-fec5de8a1b82",
   "metadata": {},
   "source": [
    "### Risotto allo zafferano ###"
   ]
  },
  {
   "cell_type": "markdown",
   "id": "42a344d7-ed67-401d-8908-58c2b3834e72",
   "metadata": {},
   "source": [
    "#### Ingredienti per 4 persone ####"
   ]
  },
  {
   "cell_type": "markdown",
   "id": "8859faf4-1edb-4308-9012-d46e662823a7",
   "metadata": {},
   "source": [
    "- 400g. di riso,\n",
    "- 1 litro di brodo:\n",
    "  - 1 litro d'acqua\n",
    "  - 2 dadi\n",
    "- un pezzetto di cipolla,\n",
    "- 2 bustine di zafferano,\n",
    "- 1 noce di burro,\n",
    "- un po' d'olio,\n",
    "- un pizzico di sale."
   ]
  },
  {
   "cell_type": "markdown",
   "id": "dab6882c-d2e1-46a2-87b7-444f355cd14d",
   "metadata": {},
   "source": [
    "#### Preparazione ####"
   ]
  },
  {
   "cell_type": "markdown",
   "id": "9d354872-3471-4468-95ea-295f349c0a6b",
   "metadata": {},
   "source": [
    "1. Rosolare la cipolla nell'olio, aggiungere il riso e farlo tostare. Intanto far bollire dell'acqua in un pentolino con il dado.\n",
    "2. Versare un po' per volta il brodo nella pentola con il riso, e far cuocere a fuoco basso ricordando di girare spesso il riso con un cucchiaio di legno.\n",
    "3. Quando il riso e quasi cotto, aggiungere il latte, lo zafferano e il burro.\n",
    "4. Servire il tutto con una spolverata di parmigiano."
   ]
  },
  {
   "cell_type": "markdown",
   "id": "b74019b7-5dcd-40f4-b432-ecf2ec3b6c46",
   "metadata": {},
   "source": [
    "Per maggiori informazioni clicca [qui](https://it.wikipedia.org/wiki/Riso_(alimento))"
   ]
  },
  {
   "cell_type": "code",
   "execution_count": null,
   "id": "09337750-d5d0-457a-8444-a9e0a2e9b1fa",
   "metadata": {},
   "outputs": [],
   "source": []
  }
 ],
 "metadata": {
  "kernelspec": {
   "display_name": "anaconda-ai-2024.04-py310",
   "language": "python",
   "name": "conda-env-anaconda-ai-2024.04-py310-py"
  },
  "language_info": {
   "codemirror_mode": {
    "name": "ipython",
    "version": 3
   },
   "file_extension": ".py",
   "mimetype": "text/x-python",
   "name": "python",
   "nbconvert_exporter": "python",
   "pygments_lexer": "ipython3",
   "version": "3.10.13"
  }
 },
 "nbformat": 4,
 "nbformat_minor": 5
}
